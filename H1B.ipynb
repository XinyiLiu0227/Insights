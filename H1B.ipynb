{
 "cells": [
  {
   "cell_type": "code",
   "execution_count": 12,
   "metadata": {
    "collapsed": true
   },
   "outputs": [],
   "source": [
    "import csv\n",
    "import numpy as np\n",
    "import pandas as pd\n",
    "from collections import Counter   "
   ]
  },
  {
   "cell_type": "code",
   "execution_count": 17,
   "metadata": {},
   "outputs": [
    {
     "data": {
      "text/html": [
       "<div>\n",
       "<style>\n",
       "    .dataframe thead tr:only-child th {\n",
       "        text-align: right;\n",
       "    }\n",
       "\n",
       "    .dataframe thead th {\n",
       "        text-align: left;\n",
       "    }\n",
       "\n",
       "    .dataframe tbody tr th {\n",
       "        vertical-align: top;\n",
       "    }\n",
       "</style>\n",
       "<table border=\"1\" class=\"dataframe\">\n",
       "  <thead>\n",
       "    <tr style=\"text-align: right;\">\n",
       "      <th></th>\n",
       "      <th>Unnamed: 0</th>\n",
       "      <th>CASE_NUMBER</th>\n",
       "      <th>CASE_STATUS</th>\n",
       "      <th>CASE_SUBMITTED</th>\n",
       "      <th>DECISION_DATE</th>\n",
       "      <th>VISA_CLASS</th>\n",
       "      <th>EMPLOYMENT_START_DATE</th>\n",
       "      <th>EMPLOYMENT_END_DATE</th>\n",
       "      <th>EMPLOYER_NAME</th>\n",
       "      <th>EMPLOYER_BUSINESS_DBA</th>\n",
       "      <th>...</th>\n",
       "      <th>H1B_DEPENDENT</th>\n",
       "      <th>WILLFUL_VIOLATOR</th>\n",
       "      <th>SUPPORT_H1B</th>\n",
       "      <th>LABOR_CON_AGREE</th>\n",
       "      <th>PUBLIC_DISCLOSURE_LOCATION</th>\n",
       "      <th>WORKSITE_CITY</th>\n",
       "      <th>WORKSITE_COUNTY</th>\n",
       "      <th>WORKSITE_STATE</th>\n",
       "      <th>WORKSITE_POSTAL_CODE</th>\n",
       "      <th>ORIGINAL_CERT_DATE</th>\n",
       "    </tr>\n",
       "  </thead>\n",
       "  <tbody>\n",
       "    <tr>\n",
       "      <th>0</th>\n",
       "      <td>0</td>\n",
       "      <td>I-200-18026-338377</td>\n",
       "      <td>CERTIFIED</td>\n",
       "      <td>2018-01-29</td>\n",
       "      <td>2018-02-02</td>\n",
       "      <td>H-1B</td>\n",
       "      <td>2018-07-28</td>\n",
       "      <td>2021-07-27</td>\n",
       "      <td>MICROSOFT CORPORATION</td>\n",
       "      <td>NaN</td>\n",
       "      <td>...</td>\n",
       "      <td>N</td>\n",
       "      <td>N</td>\n",
       "      <td>NaN</td>\n",
       "      <td>NaN</td>\n",
       "      <td>NaN</td>\n",
       "      <td>REDMOND</td>\n",
       "      <td>KING</td>\n",
       "      <td>WA</td>\n",
       "      <td>98052</td>\n",
       "      <td>NaN</td>\n",
       "    </tr>\n",
       "    <tr>\n",
       "      <th>1</th>\n",
       "      <td>1</td>\n",
       "      <td>I-200-17296-353451</td>\n",
       "      <td>CERTIFIED</td>\n",
       "      <td>2017-10-23</td>\n",
       "      <td>2017-10-27</td>\n",
       "      <td>H-1B</td>\n",
       "      <td>2017-11-06</td>\n",
       "      <td>2020-11-06</td>\n",
       "      <td>ERNST &amp; YOUNG U.S. LLP</td>\n",
       "      <td>NaN</td>\n",
       "      <td>...</td>\n",
       "      <td>N</td>\n",
       "      <td>N</td>\n",
       "      <td>NaN</td>\n",
       "      <td>NaN</td>\n",
       "      <td>NaN</td>\n",
       "      <td>SANTA CLARA</td>\n",
       "      <td>SAN JOSE</td>\n",
       "      <td>CA</td>\n",
       "      <td>95110</td>\n",
       "      <td>NaN</td>\n",
       "    </tr>\n",
       "    <tr>\n",
       "      <th>2</th>\n",
       "      <td>2</td>\n",
       "      <td>I-200-18242-524477</td>\n",
       "      <td>CERTIFIED</td>\n",
       "      <td>2018-08-30</td>\n",
       "      <td>2018-09-06</td>\n",
       "      <td>H-1B</td>\n",
       "      <td>2018-09-10</td>\n",
       "      <td>2021-09-09</td>\n",
       "      <td>LOGIXHUB LLC</td>\n",
       "      <td>NaN</td>\n",
       "      <td>...</td>\n",
       "      <td>N</td>\n",
       "      <td>N</td>\n",
       "      <td>NaN</td>\n",
       "      <td>NaN</td>\n",
       "      <td>NaN</td>\n",
       "      <td>IRVING</td>\n",
       "      <td>DALLAS</td>\n",
       "      <td>TX</td>\n",
       "      <td>75062</td>\n",
       "      <td>NaN</td>\n",
       "    </tr>\n",
       "    <tr>\n",
       "      <th>3</th>\n",
       "      <td>3</td>\n",
       "      <td>I-200-18070-575236</td>\n",
       "      <td>CERTIFIED</td>\n",
       "      <td>NaN</td>\n",
       "      <td>2018-03-30</td>\n",
       "      <td>H-1B</td>\n",
       "      <td>2018-09-10</td>\n",
       "      <td>2021-09-09</td>\n",
       "      <td>HEXAWARE TECHNOLOGIES, INC.</td>\n",
       "      <td>NaN</td>\n",
       "      <td>...</td>\n",
       "      <td>Y</td>\n",
       "      <td>N</td>\n",
       "      <td>Y</td>\n",
       "      <td>NaN</td>\n",
       "      <td>NaN</td>\n",
       "      <td>NEW CASTLE</td>\n",
       "      <td>NEW CASTLE</td>\n",
       "      <td>DE</td>\n",
       "      <td>19720</td>\n",
       "      <td>NaN</td>\n",
       "    </tr>\n",
       "    <tr>\n",
       "      <th>4</th>\n",
       "      <td>4</td>\n",
       "      <td>I-200-18243-850522</td>\n",
       "      <td>CERTIFIED</td>\n",
       "      <td>2018-08-31</td>\n",
       "      <td>2018-09-07</td>\n",
       "      <td>H-1B</td>\n",
       "      <td>2018-09-07</td>\n",
       "      <td>2021-09-06</td>\n",
       "      <td>ECLOUD LABS,INC.</td>\n",
       "      <td>NaN</td>\n",
       "      <td>...</td>\n",
       "      <td>Y</td>\n",
       "      <td>N</td>\n",
       "      <td>Y</td>\n",
       "      <td>Y</td>\n",
       "      <td>NaN</td>\n",
       "      <td>BIRMINGHAM</td>\n",
       "      <td>SHELBY</td>\n",
       "      <td>AL</td>\n",
       "      <td>35244</td>\n",
       "      <td>NaN</td>\n",
       "    </tr>\n",
       "    <tr>\n",
       "      <th>5</th>\n",
       "      <td>5</td>\n",
       "      <td>I-200-18142-939501</td>\n",
       "      <td>CERTIFIED</td>\n",
       "      <td>2018-05-22</td>\n",
       "      <td>2018-05-29</td>\n",
       "      <td>H-1B</td>\n",
       "      <td>2018-05-29</td>\n",
       "      <td>2021-05-28</td>\n",
       "      <td>OBERON IT</td>\n",
       "      <td>NaN</td>\n",
       "      <td>...</td>\n",
       "      <td>Y</td>\n",
       "      <td>N</td>\n",
       "      <td>Y</td>\n",
       "      <td>NaN</td>\n",
       "      <td>NaN</td>\n",
       "      <td>SUNRISE</td>\n",
       "      <td>BROWARD</td>\n",
       "      <td>FL</td>\n",
       "      <td>33323</td>\n",
       "      <td>NaN</td>\n",
       "    </tr>\n",
       "    <tr>\n",
       "      <th>6</th>\n",
       "      <td>6</td>\n",
       "      <td>I-200-18121-552858</td>\n",
       "      <td>CERTIFIED</td>\n",
       "      <td>2018-05-01</td>\n",
       "      <td>2018-05-07</td>\n",
       "      <td>H-1B</td>\n",
       "      <td>2018-05-02</td>\n",
       "      <td>2018-10-26</td>\n",
       "      <td>ICONSOFT INC.</td>\n",
       "      <td>NaN</td>\n",
       "      <td>...</td>\n",
       "      <td>Y</td>\n",
       "      <td>N</td>\n",
       "      <td>Y</td>\n",
       "      <td>NaN</td>\n",
       "      <td>NaN</td>\n",
       "      <td>JACKSONVILLE</td>\n",
       "      <td>DUVAL COUNTY</td>\n",
       "      <td>FL</td>\n",
       "      <td>32202</td>\n",
       "      <td>NaN</td>\n",
       "    </tr>\n",
       "    <tr>\n",
       "      <th>7</th>\n",
       "      <td>7</td>\n",
       "      <td>I-200-18215-849606</td>\n",
       "      <td>CERTIFIED</td>\n",
       "      <td>2018-08-03</td>\n",
       "      <td>2018-08-09</td>\n",
       "      <td>H-1B</td>\n",
       "      <td>2018-08-11</td>\n",
       "      <td>2021-08-11</td>\n",
       "      <td>COGNIZANT TECHNOLOGY SOLUTIONS US CORP</td>\n",
       "      <td>NaN</td>\n",
       "      <td>...</td>\n",
       "      <td>Y</td>\n",
       "      <td>N</td>\n",
       "      <td>Y</td>\n",
       "      <td>NaN</td>\n",
       "      <td>NaN</td>\n",
       "      <td>OWINGS MILLS</td>\n",
       "      <td>BALTIMORE</td>\n",
       "      <td>MD</td>\n",
       "      <td>21117</td>\n",
       "      <td>NaN</td>\n",
       "    </tr>\n",
       "    <tr>\n",
       "      <th>8</th>\n",
       "      <td>8</td>\n",
       "      <td>I-201-17339-472823</td>\n",
       "      <td>CERTIFIED</td>\n",
       "      <td>2017-12-08</td>\n",
       "      <td>2017-12-14</td>\n",
       "      <td>H-1B1 Chile</td>\n",
       "      <td>2017-12-08</td>\n",
       "      <td>2019-06-07</td>\n",
       "      <td>ISHI SYSTEMS INC</td>\n",
       "      <td>NaN</td>\n",
       "      <td>...</td>\n",
       "      <td>NaN</td>\n",
       "      <td>NaN</td>\n",
       "      <td>NaN</td>\n",
       "      <td>NaN</td>\n",
       "      <td>NaN</td>\n",
       "      <td>JERSEY CITY</td>\n",
       "      <td>HUDSON</td>\n",
       "      <td>NJ</td>\n",
       "      <td>7311</td>\n",
       "      <td>NaN</td>\n",
       "    </tr>\n",
       "    <tr>\n",
       "      <th>9</th>\n",
       "      <td>9</td>\n",
       "      <td>I-200-18233-239931</td>\n",
       "      <td>CERTIFIED</td>\n",
       "      <td>2018-08-21</td>\n",
       "      <td>2018-08-27</td>\n",
       "      <td>H-1B</td>\n",
       "      <td>2018-09-05</td>\n",
       "      <td>2021-09-04</td>\n",
       "      <td>WB SOLUTIONS, LLC</td>\n",
       "      <td>NaN</td>\n",
       "      <td>...</td>\n",
       "      <td>Y</td>\n",
       "      <td>N</td>\n",
       "      <td>Y</td>\n",
       "      <td>Y</td>\n",
       "      <td>NaN</td>\n",
       "      <td>ALPHARETTA</td>\n",
       "      <td>FULTON</td>\n",
       "      <td>GA</td>\n",
       "      <td>30005</td>\n",
       "      <td>NaN</td>\n",
       "    </tr>\n",
       "  </tbody>\n",
       "</table>\n",
       "<p>10 rows × 53 columns</p>\n",
       "</div>"
      ],
      "text/plain": [
       "   Unnamed: 0         CASE_NUMBER CASE_STATUS CASE_SUBMITTED DECISION_DATE  \\\n",
       "0           0  I-200-18026-338377   CERTIFIED     2018-01-29    2018-02-02   \n",
       "1           1  I-200-17296-353451   CERTIFIED     2017-10-23    2017-10-27   \n",
       "2           2  I-200-18242-524477   CERTIFIED     2018-08-30    2018-09-06   \n",
       "3           3  I-200-18070-575236   CERTIFIED            NaN    2018-03-30   \n",
       "4           4  I-200-18243-850522   CERTIFIED     2018-08-31    2018-09-07   \n",
       "5           5  I-200-18142-939501   CERTIFIED     2018-05-22    2018-05-29   \n",
       "6           6  I-200-18121-552858   CERTIFIED     2018-05-01    2018-05-07   \n",
       "7           7  I-200-18215-849606   CERTIFIED     2018-08-03    2018-08-09   \n",
       "8           8  I-201-17339-472823   CERTIFIED     2017-12-08    2017-12-14   \n",
       "9           9  I-200-18233-239931   CERTIFIED     2018-08-21    2018-08-27   \n",
       "\n",
       "    VISA_CLASS EMPLOYMENT_START_DATE EMPLOYMENT_END_DATE  \\\n",
       "0         H-1B            2018-07-28          2021-07-27   \n",
       "1         H-1B            2017-11-06          2020-11-06   \n",
       "2         H-1B            2018-09-10          2021-09-09   \n",
       "3         H-1B            2018-09-10          2021-09-09   \n",
       "4         H-1B            2018-09-07          2021-09-06   \n",
       "5         H-1B            2018-05-29          2021-05-28   \n",
       "6         H-1B            2018-05-02          2018-10-26   \n",
       "7         H-1B            2018-08-11          2021-08-11   \n",
       "8  H-1B1 Chile            2017-12-08          2019-06-07   \n",
       "9         H-1B            2018-09-05          2021-09-04   \n",
       "\n",
       "                            EMPLOYER_NAME  EMPLOYER_BUSINESS_DBA  \\\n",
       "0                   MICROSOFT CORPORATION                    NaN   \n",
       "1                  ERNST & YOUNG U.S. LLP                    NaN   \n",
       "2                            LOGIXHUB LLC                    NaN   \n",
       "3             HEXAWARE TECHNOLOGIES, INC.                    NaN   \n",
       "4                        ECLOUD LABS,INC.                    NaN   \n",
       "5                               OBERON IT                    NaN   \n",
       "6                           ICONSOFT INC.                    NaN   \n",
       "7  COGNIZANT TECHNOLOGY SOLUTIONS US CORP                    NaN   \n",
       "8                        ISHI SYSTEMS INC                    NaN   \n",
       "9                       WB SOLUTIONS, LLC                    NaN   \n",
       "\n",
       "         ...         H1B_DEPENDENT WILLFUL_VIOLATOR SUPPORT_H1B  \\\n",
       "0        ...                     N                N         NaN   \n",
       "1        ...                     N                N         NaN   \n",
       "2        ...                     N                N         NaN   \n",
       "3        ...                     Y                N           Y   \n",
       "4        ...                     Y                N           Y   \n",
       "5        ...                     Y                N           Y   \n",
       "6        ...                     Y                N           Y   \n",
       "7        ...                     Y                N           Y   \n",
       "8        ...                   NaN              NaN         NaN   \n",
       "9        ...                     Y                N           Y   \n",
       "\n",
       "   LABOR_CON_AGREE PUBLIC_DISCLOSURE_LOCATION  WORKSITE_CITY  WORKSITE_COUNTY  \\\n",
       "0              NaN                        NaN        REDMOND             KING   \n",
       "1              NaN                        NaN    SANTA CLARA         SAN JOSE   \n",
       "2              NaN                        NaN         IRVING           DALLAS   \n",
       "3              NaN                        NaN     NEW CASTLE       NEW CASTLE   \n",
       "4                Y                        NaN     BIRMINGHAM           SHELBY   \n",
       "5              NaN                        NaN        SUNRISE          BROWARD   \n",
       "6              NaN                        NaN   JACKSONVILLE     DUVAL COUNTY   \n",
       "7              NaN                        NaN   OWINGS MILLS        BALTIMORE   \n",
       "8              NaN                        NaN    JERSEY CITY           HUDSON   \n",
       "9                Y                        NaN     ALPHARETTA           FULTON   \n",
       "\n",
       "   WORKSITE_STATE WORKSITE_POSTAL_CODE ORIGINAL_CERT_DATE  \n",
       "0              WA                98052                NaN  \n",
       "1              CA                95110                NaN  \n",
       "2              TX                75062                NaN  \n",
       "3              DE                19720                NaN  \n",
       "4              AL                35244                NaN  \n",
       "5              FL                33323                NaN  \n",
       "6              FL                32202                NaN  \n",
       "7              MD                21117                NaN  \n",
       "8              NJ                 7311                NaN  \n",
       "9              GA                30005                NaN  \n",
       "\n",
       "[10 rows x 53 columns]"
      ]
     },
     "execution_count": 17,
     "metadata": {},
     "output_type": "execute_result"
    }
   ],
   "source": [
    "d = pd.read_csv(\"h1b_input.csv\",delimiter=';', quotechar='\"')\n",
    "d"
   ]
  },
  {
   "cell_type": "code",
   "execution_count": 19,
   "metadata": {},
   "outputs": [
    {
     "data": {
      "text/plain": [
       "Index(['Unnamed: 0', 'CASE_NUMBER', 'CASE_STATUS', 'CASE_SUBMITTED',\n",
       "       'DECISION_DATE', 'VISA_CLASS', 'EMPLOYMENT_START_DATE',\n",
       "       'EMPLOYMENT_END_DATE', 'EMPLOYER_NAME', 'EMPLOYER_BUSINESS_DBA',\n",
       "       'EMPLOYER_ADDRESS', 'EMPLOYER_CITY', 'EMPLOYER_STATE',\n",
       "       'EMPLOYER_POSTAL_CODE', 'EMPLOYER_COUNTRY', 'EMPLOYER_PROVINCE',\n",
       "       'EMPLOYER_PHONE', 'EMPLOYER_PHONE_EXT', 'AGENT_REPRESENTING_EMPLOYER',\n",
       "       'AGENT_ATTORNEY_NAME', 'AGENT_ATTORNEY_CITY', 'AGENT_ATTORNEY_STATE',\n",
       "       'JOB_TITLE', 'SOC_CODE', 'SOC_NAME', 'NAICS_CODE', 'TOTAL_WORKERS',\n",
       "       'NEW_EMPLOYMENT', 'CONTINUED_EMPLOYMENT', 'CHANGE_PREVIOUS_EMPLOYMENT',\n",
       "       'NEW_CONCURRENT_EMP', 'CHANGE_EMPLOYER', 'AMENDED_PETITION',\n",
       "       'FULL_TIME_POSITION', 'PREVAILING_WAGE', 'PW_UNIT_OF_PAY',\n",
       "       'PW_WAGE_LEVEL', 'PW_SOURCE', 'PW_SOURCE_YEAR', 'PW_SOURCE_OTHER',\n",
       "       'WAGE_RATE_OF_PAY_FROM', 'WAGE_RATE_OF_PAY_TO', 'WAGE_UNIT_OF_PAY',\n",
       "       'H1B_DEPENDENT', 'WILLFUL_VIOLATOR', 'SUPPORT_H1B', 'LABOR_CON_AGREE',\n",
       "       'PUBLIC_DISCLOSURE_LOCATION', 'WORKSITE_CITY', 'WORKSITE_COUNTY',\n",
       "       'WORKSITE_STATE', 'WORKSITE_POSTAL_CODE', 'ORIGINAL_CERT_DATE'],\n",
       "      dtype='object')"
      ]
     },
     "execution_count": 19,
     "metadata": {},
     "output_type": "execute_result"
    }
   ],
   "source": [
    "d.columns"
   ]
  },
  {
   "cell_type": "code",
   "execution_count": 27,
   "metadata": {},
   "outputs": [
    {
     "data": {
      "text/plain": [
       "['SOFTWARE DEVELOPERS, APPLICATIONS',\n",
       " 'ACCOUNTANTS AND AUDITORS',\n",
       " 'DATABASE ADMINISTRATORS',\n",
       " 'SOFTWARE DEVELOPERS, APPLICATIONS',\n",
       " 'SOFTWARE DEVELOPERS, APPLICATIONS',\n",
       " 'SOFTWARE DEVELOPERS, APPLICATIONS',\n",
       " 'SOFTWARE DEVELOPERS, APPLICATIONS',\n",
       " 'COMPUTER SYSTEMS ANALYST',\n",
       " 'COMPUTER OCCUPATIONS, ALL OTHER',\n",
       " 'SOFTWARE DEVELOPERS, APPLICATIONS']"
      ]
     },
     "execution_count": 27,
     "metadata": {},
     "output_type": "execute_result"
    }
   ],
   "source": [
    "li = list(d['SOC_NAME'])\n",
    "li"
   ]
  },
  {
   "cell_type": "code",
   "execution_count": 28,
   "metadata": {},
   "outputs": [
    {
     "data": {
      "text/plain": [
       "Counter({'ACCOUNTANTS AND AUDITORS': 1,\n",
       "         'COMPUTER OCCUPATIONS, ALL OTHER': 1,\n",
       "         'COMPUTER SYSTEMS ANALYST': 1,\n",
       "         'DATABASE ADMINISTRATORS': 1,\n",
       "         'SOFTWARE DEVELOPERS, APPLICATIONS': 6})"
      ]
     },
     "execution_count": 28,
     "metadata": {},
     "output_type": "execute_result"
    }
   ],
   "source": [
    "c = Counter(li)\n",
    "c"
   ]
  },
  {
   "cell_type": "code",
   "execution_count": 56,
   "metadata": {},
   "outputs": [],
   "source": [
    "output = c.most_common()"
   ]
  },
  {
   "cell_type": "code",
   "execution_count": 62,
   "metadata": {},
   "outputs": [
    {
     "data": {
      "text/plain": [
       "Counter({'ACCOUNTANTS AND AUDITORS': 1,\n",
       "         'COMPUTER OCCUPATIONS, ALL OTHER': 1,\n",
       "         'COMPUTER SYSTEMS ANALYST': 1,\n",
       "         'DATABASE ADMINISTRATORS': 1,\n",
       "         'SOFTWARE DEVELOPERS, APPLICATIONS': 6})"
      ]
     },
     "execution_count": 62,
     "metadata": {},
     "output_type": "execute_result"
    }
   ],
   "source": [
    "li1 = d[d['CASE_STATUS']=='CERTIFIED']['SOC_NAME']\n",
    "c1 = Counter(li1)\n",
    "c1"
   ]
  },
  {
   "cell_type": "code",
   "execution_count": 58,
   "metadata": {},
   "outputs": [],
   "source": [
    "output = [list(x) for x in output]"
   ]
  },
  {
   "cell_type": "code",
   "execution_count": 64,
   "metadata": {},
   "outputs": [
    {
     "data": {
      "text/plain": [
       "[['SOFTWARE DEVELOPERS, APPLICATIONS', 6, '60.0%'],\n",
       " ['ACCOUNTANTS AND AUDITORS', 1, '10.0%'],\n",
       " ['DATABASE ADMINISTRATORS', 1, '10.0%'],\n",
       " ['COMPUTER SYSTEMS ANALYST', 1, '10.0%'],\n",
       " ['COMPUTER OCCUPATIONS, ALL OTHER', 1, '10.0%']]"
      ]
     },
     "execution_count": 64,
     "metadata": {},
     "output_type": "execute_result"
    }
   ],
   "source": [
    "res = []\n",
    "for x in output:\n",
    "    res.append([x[0]])\n",
    "    res[-1].append(c1[x[0]])\n",
    "    res[-1].append(str(x[1]/10*100)+'%')\n",
    "res"
   ]
  },
  {
   "cell_type": "code",
   "execution_count": 65,
   "metadata": {},
   "outputs": [
    {
     "data": {
      "text/plain": [
       "Counter({'AL': 1,\n",
       "         'CA': 1,\n",
       "         'DE': 1,\n",
       "         'FL': 2,\n",
       "         'GA': 1,\n",
       "         'MD': 1,\n",
       "         'NJ': 1,\n",
       "         'TX': 1,\n",
       "         'WA': 1})"
      ]
     },
     "execution_count": 65,
     "metadata": {},
     "output_type": "execute_result"
    }
   ],
   "source": [
    "li2 = list(d['WORKSITE_STATE'])\n",
    "c2 = Counter(li2)\n",
    "c2"
   ]
  },
  {
   "cell_type": "code",
   "execution_count": 66,
   "metadata": {
    "collapsed": true
   },
   "outputs": [],
   "source": [
    "output2 = c2.most_common()"
   ]
  },
  {
   "cell_type": "code",
   "execution_count": 68,
   "metadata": {},
   "outputs": [
    {
     "data": {
      "text/plain": [
       "[['FL', 2],\n",
       " ['WA', 1],\n",
       " ['CA', 1],\n",
       " ['TX', 1],\n",
       " ['DE', 1],\n",
       " ['AL', 1],\n",
       " ['MD', 1],\n",
       " ['NJ', 1],\n",
       " ['GA', 1]]"
      ]
     },
     "execution_count": 68,
     "metadata": {},
     "output_type": "execute_result"
    }
   ],
   "source": [
    "output2 = [list(x) for x in output2]\n",
    "output2"
   ]
  },
  {
   "cell_type": "code",
   "execution_count": 69,
   "metadata": {},
   "outputs": [
    {
     "data": {
      "text/plain": [
       "[['FL', 2, '20.0%'],\n",
       " ['WA', 1, '10.0%'],\n",
       " ['CA', 1, '10.0%'],\n",
       " ['TX', 1, '10.0%'],\n",
       " ['DE', 1, '10.0%'],\n",
       " ['AL', 1, '10.0%'],\n",
       " ['MD', 1, '10.0%'],\n",
       " ['NJ', 1, '10.0%'],\n",
       " ['GA', 1, '10.0%']]"
      ]
     },
     "execution_count": 69,
     "metadata": {},
     "output_type": "execute_result"
    }
   ],
   "source": [
    "for x in output2:\n",
    "    x.append(str(x[1]/10*100)+'%')\n",
    "output2"
   ]
  },
  {
   "cell_type": "code",
   "execution_count": 87,
   "metadata": {},
   "outputs": [],
   "source": [
    "file = open('top_10_occupations.txt','w') \n",
    " \n",
    "file.write('TOP_OCCUPATIONS;NUMBER_CERTIFIED_APPLICATIONS;PERCENTAGE') \n",
    "for x in res:\n",
    "    file.write('\\n')\n",
    "    for i in x:\n",
    "        file.write(str(i)+',') \n",
    " \n",
    "file.close() "
   ]
  },
  {
   "cell_type": "code",
   "execution_count": 86,
   "metadata": {
    "collapsed": true
   },
   "outputs": [],
   "source": [
    "file = open('top_10_states.txt','w') \n",
    " \n",
    "file.write('TOP_STATES;NUMBER_CERTIFIED_APPLICATIONS;PERCENTAGE') \n",
    "for x in res:\n",
    "    file.write('\\n')\n",
    "    for i in x:\n",
    "        file.write(str(i)+',') \n",
    " \n",
    "file.close() "
   ]
  },
  {
   "cell_type": "code",
   "execution_count": null,
   "metadata": {
    "collapsed": true
   },
   "outputs": [],
   "source": []
  }
 ],
 "metadata": {
  "kernelspec": {
   "display_name": "Python 3",
   "language": "python",
   "name": "python3"
  },
  "language_info": {
   "codemirror_mode": {
    "name": "ipython",
    "version": 3
   },
   "file_extension": ".py",
   "mimetype": "text/x-python",
   "name": "python",
   "nbconvert_exporter": "python",
   "pygments_lexer": "ipython3",
   "version": "3.6.3"
  }
 },
 "nbformat": 4,
 "nbformat_minor": 2
}
